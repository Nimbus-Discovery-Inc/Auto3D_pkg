{
 "cells": [
  {
   "attachments": {},
   "cell_type": "markdown",
   "metadata": {},
   "source": [
    "# Tutorial: Get Stable Tautomers for SMILES"
   ]
  },
  {
   "cell_type": "code",
   "execution_count": 2,
   "metadata": {},
   "outputs": [
    {
     "name": "stdout",
     "output_type": "stream",
     "text": [
      "1.15\n"
     ]
    }
   ],
   "source": [
    "import os, sys\n",
    "root = os.path.dirname(os.path.dirname(os.path.abspath(\"__file__\")))\n",
    "\n",
    "import Auto3D\n",
    "print(Auto3D.__version__)\n",
    "from Auto3D.auto3D import options\n",
    "from Auto3D.tautomer import get_stable_tautomers"
   ]
  },
  {
   "attachments": {},
   "cell_type": "markdown",
   "metadata": {},
   "source": [
    "# 1. Theory\n",
    "\n",
    "Low-energy tautomers are identified using the following steps:\n",
    "1. Enumerate reasonable tautomers for each input SMILES;\n",
    "2. Build initial 3D conformers for each tautomer, then optimize all 3D conformers;\n",
    "3. Group 3D conformers based on their original SMILES id, rank the 3D conformers based on energies;\n",
    "4. Output top-`k` tautomers or tautomers within a `window` (kca/mol) range for each group."
   ]
  },
  {
   "attachments": {},
   "cell_type": "markdown",
   "metadata": {},
   "source": [
    "# 2. Example: Get Tautomers Using the Python Library Interface"
   ]
  },
  {
   "attachments": {},
   "cell_type": "markdown",
   "metadata": {},
   "source": [
    "Since the tautomers are ranked based on their conformer energies, the 1st step is to generate conformers for all tautomers.\n",
    "\n",
    "The conformer generation step sets `max_confs=10` and `patience=20`, which is not as tight as the parameters we used for pure 3D generation. Because here we care more about the relative stabilities of tautomers, 10 conformers from each tautomer would be a good representation whereas maintaining high efficiency.\n",
    "\n",
    "`get_stable_tautomer` function directly accepts the arguments from the `options` function, plus either `tatuo_k` or `tauto_window` for tautomer selection. The tautomers are saved in the output SDF file. Internally, the `get_stable_tautomer` function calls the `main` function to get 3D conformers and the `select_tautomers` function to selecte tautomers."
   ]
  },
  {
   "cell_type": "code",
   "execution_count": 3,
   "metadata": {},
   "outputs": [
    {
     "name": "stdout",
     "output_type": "stream",
     "text": [
      "Checking input file...\n",
      "\tThere are 3 SMILES in the input file /home/jack/Auto3D_pkg/tests/files/example.smi. \n",
      "\tAll SMILES and IDs are valid.\n",
      "Suggestions for choosing isomer_engine and optimizing_engine: \n",
      "\tIsomer engine options: RDKit and Omega.\n",
      "\tOptimizing engine options: ANI2x, ANI2xt and AIMNET.\n",
      "The available memory is 125 GB.\n",
      "The task will be divided into 1 jobs.\n",
      "Job1, number of inputs: 3\n",
      "\n",
      "\n",
      "Isomer generation for job1\n",
      "Enumerating tautomers for the input...Tautomers are saved in /home/jack/Auto3D_pkg/tests/files/20221216-164040-568929_example/job1/smi_taut.smi\n",
      "Enumerating cis/tran isomers for unspecified double bonds...\n",
      "Enumerating R/S isomers for unspecified atomic centers...\n",
      "Removing enantiomers...\n",
      "Enumerating conformers/rotamers, removing duplicates...\n",
      "\n",
      "\n",
      "Optimizing on job1\n",
      "Preparing for parallel optimizing... (Max optimization steps: 5000)\n",
      "Total 3D conformers: 33\n"
     ]
    },
    {
     "name": "stderr",
     "output_type": "stream",
     "text": [
      "100%|██████████| 9/9 [00:00<00:00, 96.13it/s]\n",
      " 10%|█         | 502/5000 [00:17<01:06, 67.91it/s]"
     ]
    },
    {
     "name": "stdout",
     "output_type": "stream",
     "text": [
      "Total 3D structures: 33  Converged: 24   Dropped(Oscillating): 3    Active: 6\n"
     ]
    },
    {
     "name": "stderr",
     "output_type": "stream",
     "text": [
      " 16%|█▋        | 824/5000 [00:21<01:48, 38.39it/s]\n"
     ]
    },
    {
     "name": "stdout",
     "output_type": "stream",
     "text": [
      "Optimization finished at step 825:   Total 3D structures: 33  Converged: 29   Dropped(Oscillating): 4    Active: 0\n",
      "Beggin to slelect structures that satisfy the requirements...\n",
      "Energy unit: Hartree if implicit.\n",
      "Program running time: 0 minutes\n",
      "Output path: /home/jack/Auto3D_pkg/tests/files/20221216-164040-568929_example/example_out.sdf\n",
      "\n",
      "Begin to select stable tautomers based on their conformer energies...\n",
      "Done.\n",
      "The stable tautomers are stored in: /home/jack/Auto3D_pkg/tests/files/20221216-164040-568929_example/example_out_top_tautomers.sdf\n",
      "/home/jack/Auto3D_pkg/tests/files/20221216-164040-568929_example/example_out_top_tautomers.sdf\n"
     ]
    }
   ],
   "source": [
    "# Get the 3D conformers for input SMILES\n",
    "if __name__ == \"__main__\":\n",
    "    input_path = os.path.join(root, \"tests\", \"files\", \"example.smi\")\n",
    "    args = options(input_path, k=1, enumerate_tautomer=True, tauto_engine=\"rdkit\",\n",
    "                    max_confs=10, patience=200, use_gpu=False)\n",
    "    tautomer_out = get_stable_tautomers(args, tauto_k=1)\n",
    "    print(tautomer_out)"
   ]
  },
  {
   "cell_type": "markdown",
   "metadata": {},
   "source": [
    "# 2. Example: Get Tautomers Using a yaml File"
   ]
  },
  {
   "attachments": {},
   "cell_type": "markdown",
   "metadata": {},
   "source": [
    "The following CLI gives the same output as the previous examples.\n",
    "```\n",
    "python tauto_interface.py tauto.yaml\n",
    "```\n",
    "All related parameters are saved in the `tauto.yaml`."
   ]
  },
  {
   "attachments": {},
   "cell_type": "markdown",
   "metadata": {},
   "source": [
    "# 3. Example: Get Tautomers Using the Command Line Interface (CLI)"
   ]
  },
  {
   "attachments": {},
   "cell_type": "markdown",
   "metadata": {},
   "source": [
    "The following CLI gives the same output as the previous examples.\n",
    "```\n",
    "python tauto_interface.py <your_smi_path> --k=1 --enumerate_tautomer=True --tauto_engine=\"rdkit\" --max_confs=10 --patience=200 --use_gpu=False --tauto_k=1 \n",
    "```"
   ]
  },
  {
   "cell_type": "markdown",
   "metadata": {},
   "source": []
  }
 ],
 "metadata": {
  "kernelspec": {
   "display_name": "ani_rep5",
   "language": "python",
   "name": "python3"
  },
  "language_info": {
   "codemirror_mode": {
    "name": "ipython",
    "version": 3
   },
   "file_extension": ".py",
   "mimetype": "text/x-python",
   "name": "python",
   "nbconvert_exporter": "python",
   "pygments_lexer": "ipython3",
   "version": "3.7.12"
  },
  "orig_nbformat": 4,
  "vscode": {
   "interpreter": {
    "hash": "616c56a3ed21e3ae44abe9e5d2ccac0c31ac3b83ad187e35e46c44d00d4bba8c"
   }
  }
 },
 "nbformat": 4,
 "nbformat_minor": 2
}

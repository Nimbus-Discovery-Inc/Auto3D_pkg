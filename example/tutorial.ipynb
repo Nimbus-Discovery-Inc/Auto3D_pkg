{
 "cells": [
  {
   "attachments": {},
   "cell_type": "markdown",
   "metadata": {},
   "source": [
    "# Tutorial: Getting optimized conformers and energies\n",
    "\n",
    "The most basic usage of Auto3D is to get the optimized low-energy conformers. The input is just a `smi` file, the output is an `SDF` file containing the conformers and its energies. `Auto3D` provides flexibility in choosing isomer engine, optimization engine and other properties, but the whole process could be done with as little as 5 lines of code."
   ]
  },
  {
   "cell_type": "code",
   "execution_count": 3,
   "metadata": {},
   "outputs": [],
   "source": [
    "import os, sys\n",
    "root = os.path.dirname(os.path.dirname(os.path.abspath(\"__file__\")))\n",
    "\n",
    "import Auto3D\n",
    "#options is a function that takes in all user-specified parameters, then return arguments for the main function\n",
    "#main function takes in the arguments from the options function, then actually runs the Auto3D modules\n",
    "from Auto3D.auto3D import options, main"
   ]
  },
  {
   "cell_type": "code",
   "execution_count": 4,
   "metadata": {},
   "outputs": [
    {
     "name": "stdout",
     "output_type": "stream",
     "text": [
      "2.0\n"
     ]
    }
   ],
   "source": [
    "#Always ensure that you have the latest version\n",
    "print(Auto3D.__version__)"
   ]
  },
  {
   "cell_type": "markdown",
   "metadata": {},
   "source": [
    "# Generate low-energy 3D structures with Auto3D"
   ]
  },
  {
   "cell_type": "code",
   "execution_count": 5,
   "metadata": {},
   "outputs": [
    {
     "name": "stdout",
     "output_type": "stream",
     "text": [
      "Checking input file...\n",
      "\tThere are 4 SMILES in the input file /home/liucmu/Auto3D_pkg/example/files/smiles.smi. \n",
      "\tAll SMILES and IDs are valid.\n",
      "Suggestions for choosing isomer_engine and optimizing_engine: \n",
      "\tIsomer engine options: RDKit and Omega.\n",
      "\tOptimizing engine options: ANI2x, ANI2xt and AIMNET.\n",
      "The available memory is 125 GB.\n",
      "The task will be divided into 1 jobs.\n",
      "Job1, number of inputs: 4\n",
      "\n",
      "\n",
      "Isomer generation for job1\n",
      "Enumerating cis/tran isomers for unspecified double bonds...\n",
      "Enumerating R/S isomers for unspecified atomic centers...\n",
      "Removing enantiomers...\n",
      "Enumerating conformers/rotamers, removing duplicates...\n",
      "\n",
      "\n",
      "Optimizing on job1\n"
     ]
    },
    {
     "name": "stderr",
     "output_type": "stream",
     "text": [
      "100%|██████████| 4/4 [00:00<00:00, 50.56it/s]\n"
     ]
    },
    {
     "name": "stdout",
     "output_type": "stream",
     "text": [
      "Preparing for parallel optimizing... (Max optimization steps: 5000)\n",
      "Total 3D conformers: 13\n"
     ]
    },
    {
     "name": "stderr",
     "output_type": "stream",
     "text": [
      " 10%|▉         | 499/5000 [00:16<01:46, 42.24it/s]"
     ]
    },
    {
     "name": "stdout",
     "output_type": "stream",
     "text": [
      "Total 3D structures: 13  Converged: 9   Dropped(Oscillating): 0    Active: 4\n"
     ]
    },
    {
     "name": "stderr",
     "output_type": "stream",
     "text": [
      " 20%|██        | 1003/5000 [00:24<00:52, 76.69it/s]"
     ]
    },
    {
     "name": "stdout",
     "output_type": "stream",
     "text": [
      "Total 3D structures: 13  Converged: 12   Dropped(Oscillating): 0    Active: 1\n"
     ]
    },
    {
     "name": "stderr",
     "output_type": "stream",
     "text": [
      " 24%|██▍       | 1208/5000 [00:28<01:28, 42.75it/s]\n"
     ]
    },
    {
     "name": "stdout",
     "output_type": "stream",
     "text": [
      "Optimization finished at step 1209:   Total 3D structures: 13  Converged: 13   Dropped(Oscillating): 0    Active: 0\n",
      "Beggin to slelect structures that satisfy the requirements...\n",
      "Energy unit: Hartree if implicit.\n",
      "Program running time: 0 minutes\n",
      "Output path: /home/liucmu/Auto3D_pkg/example/files/20230220-225637-957976_smiles/smiles_out.sdf\n",
      "/home/liucmu/Auto3D_pkg/example/files/20230220-225637-957976_smiles/smiles_out.sdf\n"
     ]
    }
   ],
   "source": [
    "if __name__ == \"__main__\":\n",
    "    path = os.path.join(root, \"example/files/smiles.smi\")\n",
    "    args = options(path, k=1, use_gpu=False)   #specify the parameters for Auto3D \n",
    "    out = main(args)            #main acceps the parameters and run Auto3D\n",
    "    print(out)"
   ]
  },
  {
   "attachments": {},
   "cell_type": "markdown",
   "metadata": {},
   "source": [
    "The above cell runs Auto3D and finds the low-energy conformers for 4 molecules in less than 1 minute. Note the `k=1` argument specifies that only the lowest energy conformer for each molecule will be kepted int the final output. If `k=3`, the each molecule will have at most 3 conformers, and their relative energies will be stored in the SDF file, too. Here is a diagram demonstrate the argument `k`.\n",
    "\n",
    "\n",
    "<figure>\n",
    "    <img src=\"./files/k.png\" alt=\"illustraction of the k parameter\" style=\"width: 800px;\" />\n",
    "</figure>"
   ]
  },
  {
   "attachments": {},
   "cell_type": "markdown",
   "metadata": {},
   "source": [
    "Note that you can also use `window=x` instead of setting `k=1`. The argument `window` tells Auto3D to keep all conforers whose energies are at most `x kcal/mol` higher than the lowest-energy of that molecule. `window` and `k` are mutual exclusive, so you can only set either `window` or `k`. "
   ]
  },
  {
   "attachments": {},
   "cell_type": "markdown",
   "metadata": {},
   "source": [
    "# Running the job in CLI\n",
    "\n",
    "You can also run the above job with CLI:\n",
    "\n",
    "```\n",
    "cd <replace with your path_folder_with_auto3D.py>\n",
    "python auto3D.py \"example/files/smiles.smi\" --k=1\n",
    "```\n",
    "\n",
    "You can find `auto3D.py` at [here](https://github.com/isayevlab/Auto3D_pkg/blob/main/auto3D.py)\n",
    "\n",
    "# Running the job in CLI with a yaml file\n",
    "The parameter can be provided via a yaml file. So the above example is equivalent to\n",
    "```\n",
    "cd <replace with your path_folder_with_auto3D.py>\n",
    "python auto3D.py parameters.yaml\n",
    "```\n",
    "You can find an example `parameters.yaml` at [here](https://github.com/isayevlab/Auto3D_pkg/blob/main/parameters.yaml)"
   ]
  },
  {
   "cell_type": "markdown",
   "metadata": {},
   "source": []
  }
 ],
 "metadata": {
  "kernelspec": {
   "display_name": "py39",
   "language": "python",
   "name": "python3"
  },
  "language_info": {
   "codemirror_mode": {
    "name": "ipython",
    "version": 3
   },
   "file_extension": ".py",
   "mimetype": "text/x-python",
   "name": "python",
   "nbconvert_exporter": "python",
   "pygments_lexer": "ipython3",
   "version": "3.9.12"
  },
  "vscode": {
   "interpreter": {
    "hash": "1b614daab3e5f7b6a193b72cc0b083bb669e7ee1c6a77737086e3d4b842fe95b"
   }
  }
 },
 "nbformat": 4,
 "nbformat_minor": 2
}

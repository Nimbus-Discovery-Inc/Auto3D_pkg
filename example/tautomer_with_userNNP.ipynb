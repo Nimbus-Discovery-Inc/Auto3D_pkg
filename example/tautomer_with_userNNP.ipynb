{
 "cells": [
  {
   "cell_type": "code",
   "execution_count": null,
   "metadata": {},
   "outputs": [],
   "source": [
    "import os, sys\n",
    "sys.path.append(os.path.dirname(__file__))\n",
    "\n",
    "import Auto3D\n",
    "from Auto3D.auto3D import options, main\n",
    "\n",
    "root = os.path.dirname(os.path.dirname(os.path.abspath(\"__file__\")))\n",
    "input_path = os.path.join(root, \"example\", \"files\", \"sildnafil.smi\")\n",
    "\n",
    "#args specify the parameters for Auto3D\n",
    "args = options(input_path, window=20.0, optimizing_engine='userNNP', enumerate_tautomer=False,\n",
    "                   max_confs=200, opt_steps=5000, verbose=True, mpi_np=16, use_gpu=True, gpu_idx=3, job_name='auto3d_vac')\n",
    "\n",
    "out = main(args)            #main acceps the parameters and run Auto3D\n",
    "# print(out)\n"
   ]
  }
 ],
 "metadata": {
  "kernelspec": {
   "display_name": "Python 3",
   "language": "python",
   "name": "python3"
  },
  "language_info": {
   "name": "python",
   "version": "3.8.5"
  }
 },
 "nbformat": 4,
 "nbformat_minor": 2
}

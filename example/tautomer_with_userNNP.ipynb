{
 "cells": [
  {
   "cell_type": "code",
   "execution_count": 1,
   "metadata": {},
   "outputs": [],
   "source": [
    "import Auto3D\n",
    "from Auto3D.auto3D import options, main\n",
    "from Auto3D.tautomer import get_stable_tautomers"
   ]
  },
  {
   "cell_type": "code",
   "execution_count": null,
   "metadata": {},
   "outputs": [],
   "source": [
    "# define a custom NNP\n"
   ]
  },
  {
   "cell_type": "code",
   "execution_count": null,
   "metadata": {},
   "outputs": [],
   "source": []
  },
  {
   "cell_type": "code",
   "execution_count": null,
   "metadata": {},
   "outputs": [],
   "source": [
    "import os, sys\n",
    "root = os.path.dirname(os.path.dirname(os.path.abspath(\"__file__\")))\n",
    "sys.path.append(os.path.dirname(__file__))\n",
    "\n",
    "import Auto3D\n",
    "from Auto3D.auto3D import options\n",
    "from Auto3D.tautomer import get_stable_tautomers\n",
    "\n",
    "input_path = os.path.join(root, \"example\", \"files\", \"sildnafil.smi\")\n",
    "\n",
    "if __name__ == \"__main__\":\n",
    "    args = options(input_path, k=1, enumerate_tautomer=True, tauto_engine=\"rdkit\",\n",
    "                   optimizing_engine=\"userNNP\",  #Use userNNP for tautomers\n",
    "                   max_confs=10, patience=200, use_gpu=False)\n",
    "    tautomer_out = get_stable_tautomers(args, tauto_k=3)\n"
   ]
  }
 ],
 "metadata": {
  "kernelspec": {
   "display_name": "Python 3",
   "language": "python",
   "name": "python3"
  },
  "language_info": {
   "codemirror_mode": {
    "name": "ipython",
    "version": 3
   },
   "file_extension": ".py",
   "mimetype": "text/x-python",
   "name": "python",
   "nbconvert_exporter": "python",
   "pygments_lexer": "ipython3",
   "version": "3.9.19"
  }
 },
 "nbformat": 4,
 "nbformat_minor": 2
}
